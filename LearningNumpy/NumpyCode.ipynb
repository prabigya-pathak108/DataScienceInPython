{
 "cells": [
  {
   "cell_type": "markdown",
   "id": "5e5be1de",
   "metadata": {},
   "source": [
    "# NumPy\n",
    "\n",
    "NumPy is a Python library used for numerical computing. It stands for \"Numerical Python\". NumPy provides support for arrays, matrices, and mathematical functions to operate on these arrays. It's widely used in scientific computing, data analysis, machine learning, and other areas where numerical operations on large datasets are common.\n",
    "\n",
    "NumPy's main feature is its powerful N-dimensional array object, which provides efficient storage and manipulation of homogeneous data. "
   ]
  },
  {
   "cell_type": "code",
   "execution_count": 1,
   "id": "a8ded06a",
   "metadata": {},
   "outputs": [],
   "source": [
    "# To import the Package\n",
    "import numpy as np"
   ]
  },
  {
   "cell_type": "code",
   "execution_count": 2,
   "id": "6bd27119",
   "metadata": {},
   "outputs": [
    {
     "name": "stdout",
     "output_type": "stream",
     "text": [
      "1.26.4\n"
     ]
    }
   ],
   "source": [
    "# To print the version of NumPy\n",
    "print(np.__version__)"
   ]
  },
  {
   "cell_type": "markdown",
   "id": "b6ec6de8",
   "metadata": {},
   "source": [
    "**Basic Functions**"
   ]
  },
  {
   "cell_type": "markdown",
   "id": "9fbe5785",
   "metadata": {},
   "source": [
    "## Creating Arrays\n",
    "You can create NumPy arrays using various methods\n",
    "\n",
    "### From Python List"
   ]
  },
  {
   "cell_type": "code",
   "execution_count": 3,
   "id": "3820a69e",
   "metadata": {},
   "outputs": [
    {
     "name": "stdout",
     "output_type": "stream",
     "text": [
      "[1 2 3 4 5]\n"
     ]
    }
   ],
   "source": [
    "my_list = [1, 2, 3, 4, 5]\n",
    "arr = np.array(my_list)\n",
    "print(arr)"
   ]
  },
  {
   "cell_type": "markdown",
   "id": "4893ee19",
   "metadata": {},
   "source": [
    "#### Using arange:"
   ]
  },
  {
   "cell_type": "code",
   "execution_count": 4,
   "id": "c1f1547c",
   "metadata": {},
   "outputs": [
    {
     "name": "stdout",
     "output_type": "stream",
     "text": [
      "[0 1 2 3 4 5 6 7 8 9]\n"
     ]
    }
   ],
   "source": [
    "arr = np.arange(10)  # Creates an array from 0 to 9\n",
    "print(arr)"
   ]
  },
  {
   "cell_type": "markdown",
   "id": "a6225986",
   "metadata": {},
   "source": [
    "#### Using linspace:"
   ]
  },
  {
   "cell_type": "code",
   "execution_count": 5,
   "id": "7497d399",
   "metadata": {},
   "outputs": [
    {
     "name": "stdout",
     "output_type": "stream",
     "text": [
      "[ 0.   2.5  5.   7.5 10. ]\n"
     ]
    }
   ],
   "source": [
    "arr = np.linspace(0, 10, 5)  # Creates 5 evenly spaced values from 0 to 10\n",
    "print(arr)"
   ]
  },
  {
   "cell_type": "code",
   "execution_count": 6,
   "id": "fdcfecf9",
   "metadata": {},
   "outputs": [
    {
     "name": "stdout",
     "output_type": "stream",
     "text": [
      "8\n"
     ]
    }
   ],
   "source": [
    "# To print size of An Array\n",
    "print(arr.itemsize)"
   ]
  },
  {
   "cell_type": "code",
   "execution_count": 8,
   "id": "13cf9ea9",
   "metadata": {},
   "outputs": [
    {
     "name": "stdout",
     "output_type": "stream",
     "text": [
      "[1 2 3 4 5]\n"
     ]
    }
   ],
   "source": [
    "# To Sort the Array\n",
    "my_list = [1, 2, 3, 4, 5]\n",
    "myarr1 = np.array(my_list)\n",
    "print(np.sort(myarr1))"
   ]
  },
  {
   "cell_type": "code",
   "execution_count": 9,
   "id": "b9bdd25f",
   "metadata": {},
   "outputs": [
    {
     "name": "stdout",
     "output_type": "stream",
     "text": [
      "<class 'numpy.ndarray'>\n"
     ]
    }
   ],
   "source": [
    "# To print the type of a Data Structure\n",
    "print(type(myarr1))"
   ]
  },
  {
   "cell_type": "code",
   "execution_count": 10,
   "id": "30476426",
   "metadata": {},
   "outputs": [
    {
     "data": {
      "text/plain": [
       "(5,)"
      ]
     },
     "execution_count": 10,
     "metadata": {},
     "output_type": "execute_result"
    }
   ],
   "source": [
    "# To get the shape of an array i.e (row,column)\n",
    "myarr1.shape"
   ]
  },
  {
   "cell_type": "code",
   "execution_count": 11,
   "id": "e4f6fe48",
   "metadata": {},
   "outputs": [
    {
     "data": {
      "text/plain": [
       "dtype('int32')"
      ]
     },
     "execution_count": 11,
     "metadata": {},
     "output_type": "execute_result"
    }
   ],
   "source": [
    "# To print the data type of an array\n",
    "myarr1.dtype"
   ]
  },
  {
   "cell_type": "code",
   "execution_count": 12,
   "id": "f35e98b9",
   "metadata": {},
   "outputs": [
    {
     "name": "stdout",
     "output_type": "stream",
     "text": [
      "1\n",
      "2\n",
      "3\n",
      "4\n",
      "5\n"
     ]
    }
   ],
   "source": [
    "# For Itreating 1D Array\n",
    "for x in myarr1:\n",
    "    print(x)"
   ]
  },
  {
   "cell_type": "code",
   "execution_count": 13,
   "id": "b4c2e86b",
   "metadata": {
    "scrolled": true
   },
   "outputs": [
    {
     "data": {
      "text/plain": [
       "3"
      ]
     },
     "execution_count": 13,
     "metadata": {},
     "output_type": "execute_result"
    }
   ],
   "source": [
    "# To access the Element of An Array\n",
    "myarr1[2]"
   ]
  },
  {
   "cell_type": "code",
   "execution_count": 14,
   "id": "9d95f3ec",
   "metadata": {},
   "outputs": [
    {
     "data": {
      "text/plain": [
       "array([ 1,  2,  3, 27,  5])"
      ]
     },
     "execution_count": 14,
     "metadata": {},
     "output_type": "execute_result"
    }
   ],
   "source": [
    "# To change the data in an 1D array with its index\n",
    "myarr1[3] = 27\n",
    "myarr1"
   ]
  },
  {
   "cell_type": "code",
   "execution_count": 15,
   "id": "339c94de",
   "metadata": {},
   "outputs": [
    {
     "name": "stdout",
     "output_type": "stream",
     "text": [
      "[ 1  2  3 27  5]\n",
      "[1 2]\n",
      "[2 3]\n"
     ]
    }
   ],
   "source": [
    "print(myarr1)\n",
    "# To slice an 1D array acccording to its index\n",
    "print(myarr1[0:2:1]) # array[start:stop:step] include elements according to stepping\n",
    "print(myarr1[1:3]) # array[start:stop] include start index but skips the stop index"
   ]
  },
  {
   "cell_type": "code",
   "execution_count": 16,
   "id": "40b0d661",
   "metadata": {},
   "outputs": [
    {
     "name": "stdout",
     "output_type": "stream",
     "text": [
      "[array([1, 2]), array([3]), array([27]), array([5])]\n",
      "[1 2]\n",
      "[3]\n",
      "[27]\n",
      "[5]\n"
     ]
    }
   ],
   "source": [
    "# To split an array in different size\n",
    "newmyarr1 = np.array_split(myarr1,4) # np.array_split(arr,size) will split the array in required size\n",
    "print(newmyarr1)\n",
    "print(newmyarr1[0])\n",
    "print(newmyarr1[1])\n",
    "print(newmyarr1[2])\n",
    "print(newmyarr1[3])"
   ]
  },
  {
   "cell_type": "code",
   "execution_count": 18,
   "id": "34c050e7",
   "metadata": {},
   "outputs": [
    {
     "name": "stdout",
     "output_type": "stream",
     "text": [
      "5\n",
      "5\n",
      "5\n"
     ]
    }
   ],
   "source": [
    "# To search for an element after sorting\n",
    "print(np.searchsorted(myarr1,12)) # Print index of element entered\n",
    "print(np.searchsorted(myarr1,38,side=\"right\")) # Print index of element entered from right side\n",
    "print(np.searchsorted(myarr1,65,side=\"left\")) # Print index of element entered from left side"
   ]
  },
  {
   "cell_type": "markdown",
   "id": "54804fff",
   "metadata": {},
   "source": [
    "**Basic Calculation of Array**"
   ]
  },
  {
   "cell_type": "code",
   "execution_count": 20,
   "id": "69ade4c0",
   "metadata": {},
   "outputs": [],
   "source": [
    "a = np.array([1,2,3,4,5])\n",
    "b = np.array([6,7,8,9,10])"
   ]
  },
  {
   "cell_type": "code",
   "execution_count": 21,
   "id": "763e496b",
   "metadata": {},
   "outputs": [
    {
     "data": {
      "text/plain": [
       "array([ 7,  9, 11, 13, 15])"
      ]
     },
     "execution_count": 21,
     "metadata": {},
     "output_type": "execute_result"
    }
   ],
   "source": [
    "# For adding array\n",
    "a + b"
   ]
  },
  {
   "cell_type": "code",
   "execution_count": 22,
   "id": "123fd81a",
   "metadata": {},
   "outputs": [
    {
     "data": {
      "text/plain": [
       "array([-5, -5, -5, -5, -5])"
      ]
     },
     "execution_count": 22,
     "metadata": {},
     "output_type": "execute_result"
    }
   ],
   "source": [
    "# For subtracting array\n",
    "a - b"
   ]
  },
  {
   "cell_type": "code",
   "execution_count": 23,
   "id": "66450bc9",
   "metadata": {},
   "outputs": [
    {
     "data": {
      "text/plain": [
       "array([ 6, 14, 24, 36, 50])"
      ]
     },
     "execution_count": 23,
     "metadata": {},
     "output_type": "execute_result"
    }
   ],
   "source": [
    "# For multiplicating array\n",
    "a * b"
   ]
  },
  {
   "cell_type": "code",
   "execution_count": 24,
   "id": "68f51e3b",
   "metadata": {},
   "outputs": [
    {
     "data": {
      "text/plain": [
       "array([0.16666667, 0.28571429, 0.375     , 0.44444444, 0.5       ])"
      ]
     },
     "execution_count": 24,
     "metadata": {},
     "output_type": "execute_result"
    }
   ],
   "source": [
    "# For deviding array\n",
    "a / b"
   ]
  },
  {
   "cell_type": "markdown",
   "id": "21f41151",
   "metadata": {},
   "source": [
    "### Aggregation functions"
   ]
  },
  {
   "cell_type": "code",
   "execution_count": 30,
   "id": "33f630c7",
   "metadata": {},
   "outputs": [],
   "source": [
    "#mean\n",
    "result = np.mean(arr)\n",
    "\n",
    "#median\n",
    "result = np.median(arr)\n",
    "\n",
    "#sum\n",
    "result = np.sum(arr)\n",
    "\n",
    "#min\n",
    "result = np.min(arr)\n",
    "\n",
    "#max\n",
    "result = np.max(arr)\n",
    "\n",
    "#standard deviation\n",
    "result = np.std(arr)"
   ]
  },
  {
   "cell_type": "markdown",
   "id": "fd099cdf",
   "metadata": {},
   "source": [
    "**Splitting and Stacking Array**"
   ]
  },
  {
   "cell_type": "code",
   "execution_count": 25,
   "id": "e9e1d578",
   "metadata": {},
   "outputs": [
    {
     "data": {
      "text/plain": [
       "array([[[ 1,  2,  3],\n",
       "        [ 4,  5,  6],\n",
       "        [ 7,  8,  9]],\n",
       "\n",
       "       [[10, 11, 12],\n",
       "        [13, 14, 15],\n",
       "        [16, 17, 18]]])"
      ]
     },
     "execution_count": 25,
     "metadata": {},
     "output_type": "execute_result"
    }
   ],
   "source": [
    "ar1 = np.array([[1,2,3],[4,5,6],[7,8,9]])\n",
    "ar2 = np.array([[10,11,12],[13,14,15],[16,17,18]])\n",
    "np.stack((ar1,ar2)) # newarr = np.stack((arr1,arr2),axis=1) will stack two array across a new axis"
   ]
  },
  {
   "cell_type": "code",
   "execution_count": 26,
   "id": "cc326373",
   "metadata": {},
   "outputs": [
    {
     "data": {
      "text/plain": [
       "array([[ 1,  2,  3, 10, 11, 12],\n",
       "       [ 4,  5,  6, 13, 14, 15],\n",
       "       [ 7,  8,  9, 16, 17, 18]])"
      ]
     },
     "execution_count": 26,
     "metadata": {},
     "output_type": "execute_result"
    }
   ],
   "source": [
    "# It will stack array across columns\n",
    "np.hstack((ar1,ar2))"
   ]
  },
  {
   "cell_type": "code",
   "execution_count": 27,
   "id": "ce840a7b",
   "metadata": {},
   "outputs": [
    {
     "data": {
      "text/plain": [
       "array([[ 1,  2,  3],\n",
       "       [ 4,  5,  6],\n",
       "       [ 7,  8,  9],\n",
       "       [10, 11, 12],\n",
       "       [13, 14, 15],\n",
       "       [16, 17, 18]])"
      ]
     },
     "execution_count": 27,
     "metadata": {},
     "output_type": "execute_result"
    }
   ],
   "source": [
    "# It will stack array across row\n",
    "np.vstack((ar1,ar2))"
   ]
  },
  {
   "cell_type": "code",
   "execution_count": 28,
   "id": "33d53712",
   "metadata": {},
   "outputs": [
    {
     "data": {
      "text/plain": [
       "array([[[ 1, 10],\n",
       "        [ 2, 11],\n",
       "        [ 3, 12]],\n",
       "\n",
       "       [[ 4, 13],\n",
       "        [ 5, 14],\n",
       "        [ 6, 15]],\n",
       "\n",
       "       [[ 7, 16],\n",
       "        [ 8, 17],\n",
       "        [ 9, 18]]])"
      ]
     },
     "execution_count": 28,
     "metadata": {},
     "output_type": "execute_result"
    }
   ],
   "source": [
    "# It will stack array across height, which is same as depth\n",
    "np.dstack((ar1,ar2))"
   ]
  },
  {
   "cell_type": "markdown",
   "id": "05af1afa",
   "metadata": {},
   "source": [
    "**dsplit only works on arrays of 3 or more dimensions**"
   ]
  },
  {
   "cell_type": "code",
   "execution_count": 29,
   "id": "5b656b19",
   "metadata": {},
   "outputs": [
    {
     "name": "stdout",
     "output_type": "stream",
     "text": [
      "[[0 1 2]\n",
      " [3 4 5]\n",
      " [6 7 8]]\n"
     ]
    },
    {
     "data": {
      "text/plain": [
       "[array([[0, 1, 2]]), array([[3, 4, 5]]), array([[6, 7, 8]])]"
      ]
     },
     "execution_count": 29,
     "metadata": {},
     "output_type": "execute_result"
    }
   ],
   "source": [
    "ar3 = np.arange(9).reshape(3,3)\n",
    "print(ar3)\n",
    "np.array_split(ar3,3) # For splitting array"
   ]
  },
  {
   "cell_type": "code",
   "execution_count": 25,
   "id": "d75bc893",
   "metadata": {},
   "outputs": [
    {
     "data": {
      "text/plain": [
       "[array([[0],\n",
       "        [3],\n",
       "        [6]]),\n",
       " array([[1],\n",
       "        [4],\n",
       "        [7]]),\n",
       " array([[2],\n",
       "        [5],\n",
       "        [8]])]"
      ]
     },
     "execution_count": 25,
     "metadata": {},
     "output_type": "execute_result"
    }
   ],
   "source": [
    "# For splittig array across columns\n",
    "np.hsplit(ar3,3)"
   ]
  },
  {
   "cell_type": "code",
   "execution_count": 26,
   "id": "9cc00853",
   "metadata": {},
   "outputs": [
    {
     "data": {
      "text/plain": [
       "[array([[0, 1, 2]]), array([[3, 4, 5]]), array([[6, 7, 8]])]"
      ]
     },
     "execution_count": 26,
     "metadata": {},
     "output_type": "execute_result"
    }
   ],
   "source": [
    "# For splitting array across column\n",
    "np.vsplit(ar3,3)"
   ]
  },
  {
   "cell_type": "markdown",
   "id": "4ff526f8",
   "metadata": {},
   "source": [
    "**linspace Function in Numpy**"
   ]
  },
  {
   "cell_type": "code",
   "execution_count": 27,
   "id": "5eff6fbd",
   "metadata": {},
   "outputs": [
    {
     "data": {
      "text/plain": [
       "array([1.        , 1.44444444, 1.88888889, 2.33333333, 2.77777778,\n",
       "       3.22222222, 3.66666667, 4.11111111, 4.55555556, 5.        ])"
      ]
     },
     "execution_count": 27,
     "metadata": {},
     "output_type": "execute_result"
    }
   ],
   "source": [
    "# To print evenly spaced numbers between two given number np.linspace(num1,num2,spacing)\n",
    "np.linspace(1,5,10)"
   ]
  },
  {
   "cell_type": "markdown",
   "id": "af70437f",
   "metadata": {},
   "source": [
    "**Basic 2D Functions**"
   ]
  },
  {
   "cell_type": "code",
   "execution_count": 31,
   "id": "84075505",
   "metadata": {},
   "outputs": [
    {
     "name": "stdout",
     "output_type": "stream",
     "text": [
      "[[ 33  46  89 182 195]]\n"
     ]
    }
   ],
   "source": [
    "# To create an array with diffrent size like int8,int16,int32,int64\n",
    "myarr2 = np.array([[23,49,89,182,1235]],np.int32)\n",
    "print(myarr2)"
   ]
  },
  {
   "cell_type": "code",
   "execution_count": 32,
   "id": "d85f26bb",
   "metadata": {},
   "outputs": [
    {
     "name": "stdout",
     "output_type": "stream",
     "text": [
      "2\n"
     ]
    }
   ],
   "source": [
    "# To print the Dimension of an array\n",
    "print(myarr2.ndim)"
   ]
  },
  {
   "cell_type": "code",
   "execution_count": 33,
   "id": "debf6c29",
   "metadata": {},
   "outputs": [
    {
     "data": {
      "text/plain": [
       "20"
      ]
     },
     "execution_count": 33,
     "metadata": {},
     "output_type": "execute_result"
    }
   ],
   "source": [
    "# To print the number of bytes in an array\n",
    "myarr2.nbytes"
   ]
  },
  {
   "cell_type": "code",
   "execution_count": 34,
   "id": "480dabed",
   "metadata": {},
   "outputs": [
    {
     "data": {
      "text/plain": [
       "(1, 5)"
      ]
     },
     "execution_count": 34,
     "metadata": {},
     "output_type": "execute_result"
    }
   ],
   "source": [
    "# To get the shape of an array i.e (row,column)\n",
    "myarr2.shape"
   ]
  },
  {
   "cell_type": "code",
   "execution_count": 35,
   "id": "af49c50f",
   "metadata": {},
   "outputs": [
    {
     "data": {
      "text/plain": [
       "dtype('int32')"
      ]
     },
     "execution_count": 35,
     "metadata": {},
     "output_type": "execute_result"
    }
   ],
   "source": [
    "# To print the data type of an array\n",
    "myarr2.dtype"
   ]
  },
  {
   "cell_type": "code",
   "execution_count": 36,
   "id": "53456457",
   "metadata": {},
   "outputs": [
    {
     "name": "stdout",
     "output_type": "stream",
     "text": [
      "4\n"
     ]
    }
   ],
   "source": [
    "# To print size of An Array\n",
    "print(myarr2.itemsize)"
   ]
  },
  {
   "cell_type": "code",
   "execution_count": 37,
   "id": "453a0010",
   "metadata": {},
   "outputs": [
    {
     "data": {
      "text/plain": [
       "182"
      ]
     },
     "execution_count": 37,
     "metadata": {},
     "output_type": "execute_result"
    }
   ],
   "source": [
    "# To access an element of an 2D Array with arr[row_index,col_index]\n",
    "myarr2[0,3]"
   ]
  },
  {
   "cell_type": "code",
   "execution_count": 38,
   "id": "1723f0c5",
   "metadata": {},
   "outputs": [
    {
     "data": {
      "text/plain": [
       "array([[ 33,  46,  89,  18, 195]])"
      ]
     },
     "execution_count": 38,
     "metadata": {},
     "output_type": "execute_result"
    }
   ],
   "source": [
    "# # To change the data in an 2D array with its index\n",
    "myarr2[0,3] = 18\n",
    "myarr2"
   ]
  },
  {
   "cell_type": "code",
   "execution_count": 40,
   "id": "a1073f31",
   "metadata": {},
   "outputs": [
    {
     "name": "stdout",
     "output_type": "stream",
     "text": [
      "[46 89 18]\n"
     ]
    }
   ],
   "source": [
    "# To slice an 2D array acccording to its index\n",
    "print(myarr2[0,1:4]) # array[axis=0/1,start:stop:step] for 2D Arrays"
   ]
  },
  {
   "cell_type": "markdown",
   "id": "26ea81e1",
   "metadata": {},
   "source": [
    "**Creating Higher Dimension Array**"
   ]
  },
  {
   "cell_type": "code",
   "execution_count": 41,
   "id": "f923d60c",
   "metadata": {},
   "outputs": [
    {
     "name": "stdout",
     "output_type": "stream",
     "text": [
      "[[[[[1 2 3 4]]]]]\n",
      "5\n"
     ]
    }
   ],
   "source": [
    "# To create an array with higher dimension\n",
    "fivedimarr = np.array([1,2,3,4],ndmin=5)\n",
    "print(fivedimarr)\n",
    "# To print the Dimension of an array\n",
    "print(fivedimarr.ndim)"
   ]
  },
  {
   "cell_type": "markdown",
   "id": "cee0fe93",
   "metadata": {},
   "source": [
    "**Changing the DataType of an array**"
   ]
  },
  {
   "cell_type": "code",
   "execution_count": 42,
   "id": "1f4fe005",
   "metadata": {},
   "outputs": [],
   "source": [
    "# Numpy has many DataTypes\n",
    "# i - integer\n",
    "# b - boolean\n",
    "# f - float\n",
    "# c - complex float\n",
    "# m - timedelta\n",
    "# M - datetime\n",
    "# O - object\n",
    "# S - string\n",
    "# U - unicode string\n",
    "# V - fixed chunk of memory for other type ( void )"
   ]
  },
  {
   "cell_type": "code",
   "execution_count": 43,
   "id": "dd7fd724",
   "metadata": {},
   "outputs": [
    {
     "name": "stdout",
     "output_type": "stream",
     "text": [
      "[12. 74. 36. 88. 40. 55.]\n",
      "float32\n"
     ]
    }
   ],
   "source": [
    "# To change the data type of an array\n",
    "dtypearr = np.array([12,74,36,88,40,55],dtype=\"f\")\n",
    "print(dtypearr)\n",
    "# To print the data type of an array\n",
    "print(dtypearr.dtype)"
   ]
  },
  {
   "cell_type": "code",
   "execution_count": 44,
   "id": "5b044786",
   "metadata": {},
   "outputs": [
    {
     "name": "stdout",
     "output_type": "stream",
     "text": [
      "[12 74 36 88 40 55]\n",
      "int32\n"
     ]
    }
   ],
   "source": [
    "# To change the data type of an array\n",
    "newarr = dtypearr.astype(\"i\")\n",
    "print(newarr)\n",
    "# To print the data type of an array\n",
    "print(newarr.dtype)"
   ]
  },
  {
   "cell_type": "code",
   "execution_count": 45,
   "id": "ee6b5297",
   "metadata": {},
   "outputs": [
    {
     "name": "stdout",
     "output_type": "stream",
     "text": [
      "[1.11 2.32 5.45 2.01]\n",
      "float64\n",
      "[1 2 5 2]\n",
      "int32\n"
     ]
    }
   ],
   "source": [
    "# To change the data type of an array\n",
    "floatarr = np.array([1.11,2.32,5.45,2.01])\n",
    "print(floatarr)\n",
    "# To print the data type of an array\n",
    "print(floatarr.dtype)\n",
    "intarr = floatarr.astype(int)\n",
    "print(intarr)\n",
    "# To print the data type of an array\n",
    "print(intarr.dtype)"
   ]
  },
  {
   "cell_type": "code",
   "execution_count": 46,
   "id": "5ebf2cd7",
   "metadata": {},
   "outputs": [
    {
     "name": "stdout",
     "output_type": "stream",
     "text": [
      "[1 0 3 5 0 1]\n",
      "int32\n",
      "[ True False  True  True False  True]\n",
      "bool\n"
     ]
    }
   ],
   "source": [
    "# To change the data type of an array\n",
    "arr = np.array([1,0,3,5,0,1])\n",
    "print(arr)\n",
    "# To print the data type of an array\n",
    "print(arr.dtype)\n",
    "boolarr = arr.astype(bool)\n",
    "print(boolarr)\n",
    "# To print the data type of an array\n",
    "print(boolarr.dtype)"
   ]
  },
  {
   "cell_type": "markdown",
   "id": "9d44b51b",
   "metadata": {},
   "source": [
    "**Different Ways to Iterate an Array**"
   ]
  },
  {
   "cell_type": "code",
   "execution_count": 49,
   "id": "04421428",
   "metadata": {},
   "outputs": [
    {
     "name": "stdout",
     "output_type": "stream",
     "text": [
      "11\n",
      "52\n",
      "73\n",
      "94\n",
      "85\n",
      "56\n",
      "27\n",
      "38\n",
      "99\n"
     ]
    }
   ],
   "source": [
    "# To create an 2D array \n",
    "lstarr = np.array([[11,52,73],[94,85,56],[27,38,99]])\n",
    "# To itreating an 2D Array\n",
    "for x in lstarr:\n",
    "    for y in x:\n",
    "        print(y)"
   ]
  },
  {
   "cell_type": "code",
   "execution_count": 50,
   "id": "26f79bf3",
   "metadata": {},
   "outputs": [
    {
     "name": "stdout",
     "output_type": "stream",
     "text": [
      "11\n",
      "52\n",
      "73\n",
      "94\n",
      "85\n",
      "56\n",
      "27\n",
      "38\n",
      "99\n"
     ]
    }
   ],
   "source": [
    "# To itreating an 2D Array using np.nditer(arr) function\n",
    "for x in np.nditer(lstarr):\n",
    "    print(x)"
   ]
  },
  {
   "cell_type": "code",
   "execution_count": 51,
   "id": "9850d03b",
   "metadata": {},
   "outputs": [
    {
     "name": "stdout",
     "output_type": "stream",
     "text": [
      "94\n",
      "85\n",
      "56\n"
     ]
    }
   ],
   "source": [
    " # To itreating an 2D Array using np.nditer(arr) function with slicing\n",
    "for x in np.nditer(lstarr[1,0:]):\n",
    "    print(x)"
   ]
  },
  {
   "cell_type": "code",
   "execution_count": 52,
   "id": "2b991533",
   "metadata": {},
   "outputs": [
    {
     "name": "stdout",
     "output_type": "stream",
     "text": [
      "((0, 0), 11)\n",
      "((0, 1), 52)\n",
      "((0, 2), 73)\n",
      "((1, 0), 94)\n",
      "((1, 1), 85)\n",
      "((1, 2), 56)\n",
      "((2, 0), 27)\n",
      "((2, 1), 38)\n",
      "((2, 2), 99)\n"
     ]
    }
   ],
   "source": [
    " # By itreating an 2D Array using np.ndenumerate(arr) function to get values with their index\n",
    "for x in np.ndenumerate(lstarr):\n",
    "    print(x)"
   ]
  },
  {
   "cell_type": "markdown",
   "id": "4f709190",
   "metadata": {},
   "source": [
    "**Concatenating Array**"
   ]
  },
  {
   "cell_type": "code",
   "execution_count": 53,
   "id": "22fb637a",
   "metadata": {},
   "outputs": [
    {
     "name": "stdout",
     "output_type": "stream",
     "text": [
      "[[1. 1. 1.]\n",
      " [1. 1. 1.]\n",
      " [1. 1. 1.]]\n",
      "[[1. 0. 0.]\n",
      " [0. 1. 0.]\n",
      " [0. 0. 1.]]\n",
      "[[1. 1. 1.]\n",
      " [1. 1. 1.]\n",
      " [1. 1. 1.]\n",
      " [1. 0. 0.]\n",
      " [0. 1. 0.]\n",
      " [0. 0. 1.]]\n",
      "[[1. 1. 1. 1. 0. 0.]\n",
      " [1. 1. 1. 0. 1. 0.]\n",
      " [1. 1. 1. 0. 0. 1.]]\n",
      "[[1. 1. 1.]\n",
      " [1. 1. 1.]\n",
      " [1. 1. 1.]\n",
      " [1. 0. 0.]\n",
      " [0. 1. 0.]\n",
      " [0. 0. 1.]]\n"
     ]
    }
   ],
   "source": [
    "x = np.ones((3,3))\n",
    "print(x)\n",
    "y = np.identity(3)\n",
    "print(y)\n",
    "newarr1 = np.concatenate((x,y)) # For concatenating two array\n",
    "print(newarr1)\n",
    "newarr2 = np.concatenate((x,y),axis=1) # For concatenating two array along their axis either 0 or 1\n",
    "print(newarr2)\n",
    "newarr2 = np.concatenate((x,y),axis=0) # For concatenating two array along their axis either 0 or 1\n",
    "print(newarr2)"
   ]
  },
  {
   "cell_type": "markdown",
   "id": "f099d336",
   "metadata": {},
   "source": [
    "**View and Copy of an Array**"
   ]
  },
  {
   "cell_type": "code",
   "execution_count": 54,
   "id": "a8fce42d",
   "metadata": {},
   "outputs": [
    {
     "name": "stdout",
     "output_type": "stream",
     "text": [
      "[[11 52 73]\n",
      " [66 66 56]\n",
      " [27 38 99]]\n",
      "[[11 52 73]\n",
      " [94 85 56]\n",
      " [27 38 99]]\n",
      "None\n"
     ]
    }
   ],
   "source": [
    "newlstarr = lstarr.copy() # arr.copy() saves the orignal array and makes changes to the copy of array\n",
    "lstarr[1,0:2]= 66\n",
    "print(lstarr)\n",
    "print(newlstarr)\n",
    "print(newlstarr.base) # arr.base returns None for arr.copy()"
   ]
  },
  {
   "cell_type": "code",
   "execution_count": 55,
   "id": "81b9c1e4",
   "metadata": {},
   "outputs": [
    {
     "name": "stdout",
     "output_type": "stream",
     "text": [
      "[[11 52 73]\n",
      " [19 66 56]\n",
      " [27 38 99]]\n",
      "[[11 52 73]\n",
      " [19 66 56]\n",
      " [27 38 99]]\n",
      "[[11 52 73]\n",
      " [19 66 56]\n",
      " [27 38 99]]\n"
     ]
    }
   ],
   "source": [
    "newlstarr = lstarr.view() # arr.view() creates a view of array and if changes are made into orignal array then it will reflected into the view of the array\n",
    "lstarr[1,0:1]= 19\n",
    "print(lstarr)\n",
    "print(newlstarr)\n",
    "print(newlstarr.base) # arr.base returns the orignal array for arr.view()"
   ]
  },
  {
   "cell_type": "markdown",
   "id": "2c5188d1",
   "metadata": {},
   "source": [
    "**Different Arrays in Numpy**"
   ]
  },
  {
   "cell_type": "code",
   "execution_count": 56,
   "id": "440a64d3",
   "metadata": {},
   "outputs": [
    {
     "data": {
      "text/plain": [
       "array([[0., 0., 0.],\n",
       "       [0., 0., 0.],\n",
       "       [0., 0., 0.]])"
      ]
     },
     "execution_count": 56,
     "metadata": {},
     "output_type": "execute_result"
    }
   ],
   "source": [
    "# To create an array with all elements as zero(0)\n",
    "zeros = np.zeros((3,3))\n",
    "zeros"
   ]
  },
  {
   "cell_type": "code",
   "execution_count": 57,
   "id": "9e9bd500",
   "metadata": {},
   "outputs": [
    {
     "data": {
      "text/plain": [
       "array([[1., 1., 1.],\n",
       "       [1., 1., 1.],\n",
       "       [1., 1., 1.]])"
      ]
     },
     "execution_count": 57,
     "metadata": {},
     "output_type": "execute_result"
    }
   ],
   "source": [
    "# To create an array with all elements as one(1)\n",
    "ones = np.ones((3,3))\n",
    "ones"
   ]
  },
  {
   "cell_type": "code",
   "execution_count": 58,
   "id": "aa8508dc",
   "metadata": {},
   "outputs": [
    {
     "data": {
      "text/plain": [
       "array([[1., 1., 1.],\n",
       "       [1., 1., 1.],\n",
       "       [1., 1., 1.]])"
      ]
     },
     "execution_count": 58,
     "metadata": {},
     "output_type": "execute_result"
    }
   ],
   "source": [
    "# To create an array with all element as empty\n",
    "empty = np.empty((3,3))\n",
    "empty"
   ]
  },
  {
   "cell_type": "code",
   "execution_count": 59,
   "id": "61056f19",
   "metadata": {},
   "outputs": [
    {
     "data": {
      "text/plain": [
       "array([[1., 0., 0.],\n",
       "       [0., 1., 0.],\n",
       "       [0., 0., 1.]])"
      ]
     },
     "execution_count": 59,
     "metadata": {},
     "output_type": "execute_result"
    }
   ],
   "source": [
    "# To create an array with all digonal elements as one(1)\n",
    "idnt = np.identity(3)\n",
    "idnt"
   ]
  },
  {
   "cell_type": "code",
   "execution_count": 60,
   "id": "7620ebe8",
   "metadata": {},
   "outputs": [
    {
     "data": {
      "text/plain": [
       "array([[5, 0, 0],\n",
       "       [0, 6, 0],\n",
       "       [0, 0, 7]])"
      ]
     },
     "execution_count": 60,
     "metadata": {},
     "output_type": "execute_result"
    }
   ],
   "source": [
    "# To create an array with all digonal elements as specified\n",
    "dig = np.diag((5,6,7))\n",
    "dig"
   ]
  },
  {
   "cell_type": "markdown",
   "id": "e4d665ab",
   "metadata": {},
   "source": [
    "**arange Function of Numpy**"
   ]
  },
  {
   "cell_type": "code",
   "execution_count": 61,
   "id": "b17d54d1",
   "metadata": {},
   "outputs": [
    {
     "data": {
      "text/plain": [
       "array([ 0,  1,  2,  3,  4,  5,  6,  7,  8,  9, 10, 11, 12, 13, 14])"
      ]
     },
     "execution_count": 61,
     "metadata": {},
     "output_type": "execute_result"
    }
   ],
   "source": [
    "# To print series of numbers starting with zero\n",
    "rng = np.arange(15) \n",
    "rng"
   ]
  },
  {
   "cell_type": "markdown",
   "id": "6df60b68",
   "metadata": {},
   "source": [
    "**Reshaping an Array**"
   ]
  },
  {
   "cell_type": "code",
   "execution_count": 62,
   "id": "b5162a0d",
   "metadata": {},
   "outputs": [
    {
     "data": {
      "text/plain": [
       "array([[ 1,  3,  5],\n",
       "       [ 7,  9, 11]])"
      ]
     },
     "execution_count": 62,
     "metadata": {},
     "output_type": "execute_result"
    }
   ],
   "source": [
    "# To create an array\n",
    "myarr3 = np.array([[1,3,5],[7,9,11]])\n",
    "myarr3"
   ]
  },
  {
   "cell_type": "code",
   "execution_count": 63,
   "id": "ad26c431",
   "metadata": {},
   "outputs": [
    {
     "data": {
      "text/plain": [
       "array([[ 1,  3],\n",
       "       [ 5,  7],\n",
       "       [ 9, 11]])"
      ]
     },
     "execution_count": 63,
     "metadata": {},
     "output_type": "execute_result"
    }
   ],
   "source": [
    "# To reshape an array in a valid dimension \n",
    "myarr3.reshape(3,2)"
   ]
  },
  {
   "cell_type": "code",
   "execution_count": 64,
   "id": "bf0b99b1",
   "metadata": {},
   "outputs": [
    {
     "name": "stdout",
     "output_type": "stream",
     "text": [
      "[ 1  3  5  7  9 11]\n"
     ]
    }
   ],
   "source": [
    "# arr.reshape(-1) can also flatten the array\n",
    "print(myarr3.reshape(-1))"
   ]
  },
  {
   "cell_type": "markdown",
   "id": "2da3d79f",
   "metadata": {},
   "source": [
    "**reshape creates a view of an array, so arr.reshape().base returns the orignal array**"
   ]
  },
  {
   "cell_type": "code",
   "execution_count": 65,
   "id": "86ee6501",
   "metadata": {},
   "outputs": [
    {
     "data": {
      "text/plain": [
       "array([[ 1,  3,  5],\n",
       "       [ 7,  9, 11]])"
      ]
     },
     "execution_count": 65,
     "metadata": {},
     "output_type": "execute_result"
    }
   ],
   "source": [
    "# Because arr.reshape() is a view of an array, so arr.reshape().base returns the orignal array\n",
    "myarr3.reshape(3,2).base"
   ]
  },
  {
   "cell_type": "markdown",
   "id": "af65cbdf",
   "metadata": {},
   "source": [
    "**Flatenning an Array**"
   ]
  },
  {
   "cell_type": "code",
   "execution_count": 66,
   "id": "73dee226",
   "metadata": {},
   "outputs": [
    {
     "name": "stdout",
     "output_type": "stream",
     "text": [
      "[ 1  3  5  7  9 11]\n"
     ]
    }
   ],
   "source": [
    "# arr.ravel() is used for flattening an array\n",
    "print(myarr3.ravel())"
   ]
  },
  {
   "cell_type": "code",
   "execution_count": 67,
   "id": "4335155d",
   "metadata": {},
   "outputs": [
    {
     "data": {
      "text/plain": [
       "array([ 2,  4,  6,  8, 10, 12, 14, 16, 18])"
      ]
     },
     "execution_count": 67,
     "metadata": {},
     "output_type": "execute_result"
    }
   ],
   "source": [
    "# To create an array\n",
    "myarr4 = np.array([[2,4,6],[8,10,12],[14,16,18]])\n",
    "# arr.ravel() is used for flattening an array\n",
    "myarr4.ravel()"
   ]
  },
  {
   "cell_type": "markdown",
   "id": "4bd01ace",
   "metadata": {},
   "source": [
    "**Operation according to the axis (1/0)**"
   ]
  },
  {
   "cell_type": "code",
   "execution_count": 68,
   "id": "cfc8ac54",
   "metadata": {},
   "outputs": [
    {
     "data": {
      "text/plain": [
       "array([24, 30, 36])"
      ]
     },
     "execution_count": 68,
     "metadata": {},
     "output_type": "execute_result"
    }
   ],
   "source": [
    "# For making sum of elements at axis=0\n",
    "myarr4.sum(axis=0)"
   ]
  },
  {
   "cell_type": "code",
   "execution_count": 69,
   "id": "2757103a",
   "metadata": {},
   "outputs": [
    {
     "data": {
      "text/plain": [
       "array([12, 30, 48])"
      ]
     },
     "execution_count": 69,
     "metadata": {},
     "output_type": "execute_result"
    }
   ],
   "source": [
    "# For making sum of elements at axis=1\n",
    "myarr4.sum(axis=1)"
   ]
  },
  {
   "cell_type": "markdown",
   "id": "63096646",
   "metadata": {},
   "source": [
    "**Transpose of an Array**"
   ]
  },
  {
   "cell_type": "code",
   "execution_count": 70,
   "id": "4e8bc376",
   "metadata": {},
   "outputs": [
    {
     "data": {
      "text/plain": [
       "array([[ 2,  8, 14],\n",
       "       [ 4, 10, 16],\n",
       "       [ 6, 12, 18]])"
      ]
     },
     "execution_count": 70,
     "metadata": {},
     "output_type": "execute_result"
    }
   ],
   "source": [
    "# To transpose an array i.e (row changes to column) and (column changes to row)\n",
    "myarr4.T"
   ]
  },
  {
   "cell_type": "markdown",
   "id": "8b565f98",
   "metadata": {},
   "source": [
    "**Iterating a 2D Flat Array**"
   ]
  },
  {
   "cell_type": "code",
   "execution_count": 66,
   "id": "942c4e80",
   "metadata": {},
   "outputs": [
    {
     "name": "stdout",
     "output_type": "stream",
     "text": [
      "2\n",
      "4\n",
      "6\n",
      "8\n",
      "10\n",
      "12\n",
      "14\n",
      "16\n",
      "18\n"
     ]
    }
   ],
   "source": [
    "# To iterate an 2D Flat Array\n",
    "myarr4.flat\n",
    "for item in myarr4.flat:\n",
    "    print(item)"
   ]
  },
  {
   "cell_type": "markdown",
   "id": "e387a494",
   "metadata": {},
   "source": [
    "**argsort(), argmin(), argmax() Function on Array**"
   ]
  },
  {
   "cell_type": "code",
   "execution_count": 67,
   "id": "d2d946dc",
   "metadata": {},
   "outputs": [
    {
     "data": {
      "text/plain": [
       "array([[ 2,  4,  6],\n",
       "       [ 8, 10, 12],\n",
       "       [14, 16, 18]])"
      ]
     },
     "execution_count": 67,
     "metadata": {},
     "output_type": "execute_result"
    }
   ],
   "source": [
    "# To print the Array\n",
    "myarr4"
   ]
  },
  {
   "cell_type": "code",
   "execution_count": 68,
   "id": "24141e73",
   "metadata": {},
   "outputs": [
    {
     "data": {
      "text/plain": [
       "8"
      ]
     },
     "execution_count": 68,
     "metadata": {},
     "output_type": "execute_result"
    }
   ],
   "source": [
    "# To get the index of maximum element in the array\n",
    "myarr4.argmax()"
   ]
  },
  {
   "cell_type": "code",
   "execution_count": 69,
   "id": "c18d5971",
   "metadata": {},
   "outputs": [
    {
     "data": {
      "text/plain": [
       "0"
      ]
     },
     "execution_count": 69,
     "metadata": {},
     "output_type": "execute_result"
    }
   ],
   "source": [
    "# To get the index of minimum element in the array\n",
    "myarr4.argmin()"
   ]
  },
  {
   "cell_type": "code",
   "execution_count": 70,
   "id": "e13e138c",
   "metadata": {},
   "outputs": [
    {
     "data": {
      "text/plain": [
       "array([2, 2, 2], dtype=int64)"
      ]
     },
     "execution_count": 70,
     "metadata": {},
     "output_type": "execute_result"
    }
   ],
   "source": [
    "# To get the index of maximum element in the array according to axis\n",
    "myarr4.argmax(axis=0)"
   ]
  },
  {
   "cell_type": "code",
   "execution_count": 71,
   "id": "7887f63f",
   "metadata": {},
   "outputs": [
    {
     "data": {
      "text/plain": [
       "array([2, 2, 2], dtype=int64)"
      ]
     },
     "execution_count": 71,
     "metadata": {},
     "output_type": "execute_result"
    }
   ],
   "source": [
    "# To get the index of maximum element in the array according to axis\n",
    "myarr4.argmax(axis=1)"
   ]
  },
  {
   "cell_type": "code",
   "execution_count": 72,
   "id": "41e96506",
   "metadata": {},
   "outputs": [
    {
     "data": {
      "text/plain": [
       "array([0, 0, 0], dtype=int64)"
      ]
     },
     "execution_count": 72,
     "metadata": {},
     "output_type": "execute_result"
    }
   ],
   "source": [
    "# To get the index of minimum element in the array according to axis\n",
    "myarr4.argmin(axis=0)"
   ]
  },
  {
   "cell_type": "code",
   "execution_count": 73,
   "id": "626cd9d1",
   "metadata": {},
   "outputs": [
    {
     "data": {
      "text/plain": [
       "array([0, 0, 0], dtype=int64)"
      ]
     },
     "execution_count": 73,
     "metadata": {},
     "output_type": "execute_result"
    }
   ],
   "source": [
    "# To get the index of minimum element in the array according to axis\n",
    "myarr4.argmin(axis=1)"
   ]
  },
  {
   "cell_type": "code",
   "execution_count": 74,
   "id": "e8641c95",
   "metadata": {},
   "outputs": [
    {
     "data": {
      "text/plain": [
       "array([[0, 1, 2],\n",
       "       [0, 1, 2],\n",
       "       [0, 1, 2]], dtype=int64)"
      ]
     },
     "execution_count": 74,
     "metadata": {},
     "output_type": "execute_result"
    }
   ],
   "source": [
    "# To sort the array and return the index of sorted array\n",
    "myarr4.argsort()"
   ]
  },
  {
   "cell_type": "code",
   "execution_count": 75,
   "id": "7c263045",
   "metadata": {},
   "outputs": [
    {
     "data": {
      "text/plain": [
       "array([[0, 0, 0],\n",
       "       [1, 1, 1],\n",
       "       [2, 2, 2]], dtype=int64)"
      ]
     },
     "execution_count": 75,
     "metadata": {},
     "output_type": "execute_result"
    }
   ],
   "source": [
    "# To sort the array and return the index of sorted array according to axis\n",
    "myarr4.argsort(axis=0)"
   ]
  },
  {
   "cell_type": "code",
   "execution_count": 76,
   "id": "10133899",
   "metadata": {},
   "outputs": [
    {
     "data": {
      "text/plain": [
       "array([[0, 1, 2],\n",
       "       [0, 1, 2],\n",
       "       [0, 1, 2]], dtype=int64)"
      ]
     },
     "execution_count": 76,
     "metadata": {},
     "output_type": "execute_result"
    }
   ],
   "source": [
    "# To sort the array and return the index of sorted array according to axis\n",
    "myarr4.argsort(axis=1)"
   ]
  },
  {
   "cell_type": "markdown",
   "id": "04193c84",
   "metadata": {},
   "source": [
    "**Basic Operation on Array**"
   ]
  },
  {
   "cell_type": "code",
   "execution_count": 77,
   "id": "ccf0507a",
   "metadata": {},
   "outputs": [
    {
     "data": {
      "text/plain": [
       "18"
      ]
     },
     "execution_count": 77,
     "metadata": {},
     "output_type": "execute_result"
    }
   ],
   "source": [
    "# To find the maximum element present in the array\n",
    "myarr4.max()"
   ]
  },
  {
   "cell_type": "code",
   "execution_count": 78,
   "id": "bdb12c7d",
   "metadata": {},
   "outputs": [
    {
     "data": {
      "text/plain": [
       "2"
      ]
     },
     "execution_count": 78,
     "metadata": {},
     "output_type": "execute_result"
    }
   ],
   "source": [
    "# To find the minimum element present in the array\n",
    "myarr4.min()"
   ]
  },
  {
   "cell_type": "code",
   "execution_count": 79,
   "id": "0b143363",
   "metadata": {},
   "outputs": [
    {
     "data": {
      "text/plain": [
       "90"
      ]
     },
     "execution_count": 79,
     "metadata": {},
     "output_type": "execute_result"
    }
   ],
   "source": [
    "# To sum up all the elements present in the array\n",
    "myarr4.sum()"
   ]
  },
  {
   "cell_type": "markdown",
   "id": "8227c291",
   "metadata": {},
   "source": [
    "**sqrt Function of Numpy**"
   ]
  },
  {
   "cell_type": "code",
   "execution_count": 80,
   "id": "e23d4dc9",
   "metadata": {},
   "outputs": [
    {
     "data": {
      "text/plain": [
       "array([[1.41421356, 2.        , 2.44948974],\n",
       "       [2.82842712, 3.16227766, 3.46410162],\n",
       "       [3.74165739, 4.        , 4.24264069]])"
      ]
     },
     "execution_count": 80,
     "metadata": {},
     "output_type": "execute_result"
    }
   ],
   "source": [
    "# To take the square root of an entire array\n",
    "np.sqrt(myarr4)"
   ]
  },
  {
   "cell_type": "markdown",
   "id": "bf326cff",
   "metadata": {},
   "source": [
    "**std() Function of Numpy**"
   ]
  },
  {
   "cell_type": "code",
   "execution_count": 81,
   "id": "818bbb5c",
   "metadata": {},
   "outputs": [
    {
     "data": {
      "text/plain": [
       "5.163977794943222"
      ]
     },
     "execution_count": 81,
     "metadata": {},
     "output_type": "execute_result"
    }
   ],
   "source": [
    "# To take the Standard Derivation of an entire array\n",
    "np.std(myarr4)"
   ]
  },
  {
   "cell_type": "markdown",
   "id": "855ae5be",
   "metadata": {},
   "source": [
    "**Adding Array**"
   ]
  },
  {
   "cell_type": "code",
   "execution_count": 82,
   "id": "12fcbc5e",
   "metadata": {},
   "outputs": [
    {
     "data": {
      "text/plain": [
       "array([[ 13,  56,  79],\n",
       "       [ 27,  95,  68],\n",
       "       [ 41,  54, 117]])"
      ]
     },
     "execution_count": 82,
     "metadata": {},
     "output_type": "execute_result"
    }
   ],
   "source": [
    "# To add two or more array with valid dimension\n",
    "myarr4 + lstarr"
   ]
  },
  {
   "cell_type": "markdown",
   "id": "ef527895",
   "metadata": {},
   "source": [
    "**np.where() Function in Numpy**"
   ]
  },
  {
   "cell_type": "code",
   "execution_count": 83,
   "id": "7339cb53",
   "metadata": {},
   "outputs": [
    {
     "data": {
      "text/plain": [
       "(array([0, 1, 1, 1, 2, 2, 2], dtype=int64),\n",
       " array([2, 0, 1, 2, 0, 1, 2], dtype=int64))"
      ]
     },
     "execution_count": 83,
     "metadata": {},
     "output_type": "execute_result"
    }
   ],
   "source": [
    "# To find the index of the element where the condition satisfies\n",
    "np.where(myarr4>5)"
   ]
  },
  {
   "cell_type": "code",
   "execution_count": 84,
   "id": "aed53d87",
   "metadata": {},
   "outputs": [
    {
     "data": {
      "text/plain": [
       "tuple"
      ]
     },
     "execution_count": 84,
     "metadata": {},
     "output_type": "execute_result"
    }
   ],
   "source": [
    "# It returns the tuple after finding elements according to condition \n",
    "type(np.where(myarr4>5))"
   ]
  },
  {
   "cell_type": "markdown",
   "id": "fc658de5",
   "metadata": {},
   "source": [
    "**Count all nonzero Elements from Array**"
   ]
  },
  {
   "cell_type": "code",
   "execution_count": 85,
   "id": "b842e574",
   "metadata": {},
   "outputs": [
    {
     "data": {
      "text/plain": [
       "9"
      ]
     },
     "execution_count": 85,
     "metadata": {},
     "output_type": "execute_result"
    }
   ],
   "source": [
    "# To count the non zeros elements in an array\n",
    "np.count_nonzero(myarr4)"
   ]
  },
  {
   "cell_type": "markdown",
   "id": "9c8520cc",
   "metadata": {},
   "source": [
    "### Broad Casting in Numpy\n",
    "\n",
    "Broadcasting allows for vectorized operations between arrays of different shapes.\n",
    "\n",
    "##### Rule for broad casting\n",
    "\n",
    "*If the arrays do not have the same rank (number of dimensions), prepend the shape of the smaller rank array with 1s until both shapes have the same length.\n",
    "\n",
    "*Arrays are compatible for broadcasting if, for each dimension, the dimension sizes are either equal or one of them is 1.\n",
    "\n",
    "*Arrays are broadcasted against each other element-wise."
   ]
  },
  {
   "cell_type": "code",
   "execution_count": 71,
   "id": "ffb0b809",
   "metadata": {},
   "outputs": [
    {
     "name": "stdout",
     "output_type": "stream",
     "text": [
      "[2 4 6]\n"
     ]
    }
   ],
   "source": [
    "arr = np.array([1, 2, 3])\n",
    "scalar = 2\n",
    "\n",
    "result = arr * scalar\n",
    "print(result)  \n"
   ]
  },
  {
   "cell_type": "code",
   "execution_count": 72,
   "id": "14e0b018",
   "metadata": {},
   "outputs": [
    {
     "name": "stdout",
     "output_type": "stream",
     "text": [
      "[[2 3 4]\n",
      " [3 4 5]\n",
      " [4 5 6]]\n"
     ]
    }
   ],
   "source": [
    "arr1 = np.array([1, 2, 3])\n",
    "arr2 = np.array([[1], [2], [3]])\n",
    "\n",
    "# Broadcasting arr1 to the shape of arr2\n",
    "result = arr1 + arr2\n",
    "print(result)"
   ]
  },
  {
   "cell_type": "code",
   "execution_count": 73,
   "id": "ea333cde",
   "metadata": {},
   "outputs": [
    {
     "name": "stdout",
     "output_type": "stream",
     "text": [
      "[[2 4 6]\n",
      " [5 7 9]]\n"
     ]
    }
   ],
   "source": [
    "arr1 = np.array([[1, 2, 3], [4, 5, 6]])\n",
    "arr2 = np.array([1, 2, 3])\n",
    "\n",
    "# Broadcasting arr2 to match the shape of arr1\n",
    "result = arr1 + arr2\n",
    "print(result)"
   ]
  },
  {
   "cell_type": "code",
   "execution_count": 74,
   "id": "90d98744",
   "metadata": {},
   "outputs": [
    {
     "name": "stdout",
     "output_type": "stream",
     "text": [
      "operands could not be broadcast together with shapes (3,) (2,) \n"
     ]
    }
   ],
   "source": [
    "arr1 = np.array([1, 2, 3])\n",
    "arr2 = np.array([1, 2])\n",
    "\n",
    "try:\n",
    "    result = arr1 + arr2\n",
    "except ValueError as e:\n",
    "    print(e)"
   ]
  },
  {
   "cell_type": "code",
   "execution_count": 75,
   "id": "576697c3",
   "metadata": {},
   "outputs": [
    {
     "name": "stdout",
     "output_type": "stream",
     "text": [
      "[[5 6 7]\n",
      " [6 7 8]\n",
      " [7 8 9]]\n"
     ]
    }
   ],
   "source": [
    "arr1 = np.array([1, 2, 3])\n",
    "arr2 = np.array([4, 5, 6])\n",
    "\n",
    "# Reshape arr1 to (1, 3) and arr2 to (3, 1)\n",
    "result = arr1[:, np.newaxis] + arr2\n",
    "print(result)"
   ]
  }
 ],
 "metadata": {
  "kernelspec": {
   "display_name": "py310",
   "language": "python",
   "name": "py310"
  },
  "language_info": {
   "codemirror_mode": {
    "name": "ipython",
    "version": 3
   },
   "file_extension": ".py",
   "mimetype": "text/x-python",
   "name": "python",
   "nbconvert_exporter": "python",
   "pygments_lexer": "ipython3",
   "version": "3.10.13"
  },
  "vscode": {
   "interpreter": {
    "hash": "07df6efb1e40666884816ca04b3913c8c99028597c2766888796efd5c647c034"
   }
  }
 },
 "nbformat": 4,
 "nbformat_minor": 5
}
